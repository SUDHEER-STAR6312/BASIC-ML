{
  "nbformat": 4,
  "nbformat_minor": 0,
  "metadata": {
    "colab": {
      "name": "Untitled9.ipynb",
      "provenance": [],
      "authorship_tag": "ABX9TyP9B3+b84OtTA0bb83YmLBX",
      "include_colab_link": true
    },
    "kernelspec": {
      "name": "python3",
      "display_name": "Python 3"
    },
    "language_info": {
      "name": "python"
    }
  },
  "cells": [
    {
      "cell_type": "markdown",
      "metadata": {
        "id": "view-in-github",
        "colab_type": "text"
      },
      "source": [
        "<a href=\"https://colab.research.google.com/github/SUDHEER-STAR6312/BASIC-ML/blob/main/MY_FIRST_NOTEBOOK.ipynb\" target=\"_parent\"><img src=\"https://colab.research.google.com/assets/colab-badge.svg\" alt=\"Open In Colab\"/></a>"
      ]
    },
    {
      "cell_type": "markdown",
      "metadata": {
        "id": "lDGLJLIu-YGy"
      },
      "source": [
        "Python programs."
      ]
    },
    {
      "cell_type": "markdown",
      "metadata": {
        "id": "Dzr7xcu6-bBd"
      },
      "source": [
        "1.Sum of two numbers"
      ]
    },
    {
      "cell_type": "code",
      "metadata": {
        "colab": {
          "base_uri": "https://localhost:8080/"
        },
        "id": "mz97gA-i-gLx",
        "outputId": "b14b14be-2359-4bdd-b810-43b947a65615"
      },
      "source": [
        "a=int(input())\n",
        "b=int(input())\n",
        "print(a+b)"
      ],
      "execution_count": 1,
      "outputs": [
        {
          "output_type": "stream",
          "name": "stdout",
          "text": [
            "4\n",
            "5\n",
            "9\n"
          ]
        }
      ]
    },
    {
      "cell_type": "markdown",
      "metadata": {
        "id": "-w-OH3XZ-qzn"
      },
      "source": [
        "2.Even or odd"
      ]
    },
    {
      "cell_type": "code",
      "metadata": {
        "colab": {
          "base_uri": "https://localhost:8080/"
        },
        "id": "_4Nq816Z-udh",
        "outputId": "a6b35bfe-dfc5-475f-8923-84196493cb7d"
      },
      "source": [
        "print(\"Even\" if int(input())//2==0 else \"Odd\")"
      ],
      "execution_count": 2,
      "outputs": [
        {
          "output_type": "stream",
          "name": "stdout",
          "text": [
            "5\n",
            "Odd\n"
          ]
        }
      ]
    },
    {
      "cell_type": "markdown",
      "metadata": {
        "id": "WZncMxt5-8_d"
      },
      "source": [
        "3.Sum of digits in the list."
      ]
    },
    {
      "cell_type": "code",
      "metadata": {
        "colab": {
          "base_uri": "https://localhost:8080/"
        },
        "id": "Ztz-Ol6L_E6g",
        "outputId": "6884bbe8-8630-4452-8848-1de28065f052"
      },
      "source": [
        "l=[int(input()) for i in range(5)]\n",
        "print(sum(l))"
      ],
      "execution_count": 4,
      "outputs": [
        {
          "output_type": "stream",
          "name": "stdout",
          "text": [
            "1\n",
            "3\n",
            "4\n",
            "2\n",
            "8\n",
            "18\n"
          ]
        }
      ]
    }
  ]
}